{
 "cells": [
  {
   "cell_type": "code",
   "execution_count": null,
   "id": "adc6664f-37c2-4cb8-a279-c2f5ff2177c5",
   "metadata": {},
   "outputs": [],
   "source": [
    "# Project 2 initial starting point\n",
    "#Using ipynb notebooks for the sake of simplicity of debugging"
   ]
  }
 ],
 "metadata": {
  "kernelspec": {
   "display_name": "Python 3 (ipykernel)",
   "language": "python",
   "name": "python3"
  },
  "language_info": {
   "codemirror_mode": {
    "name": "ipython",
    "version": 3
   },
   "file_extension": ".py",
   "mimetype": "text/x-python",
   "name": "python",
   "nbconvert_exporter": "python",
   "pygments_lexer": "ipython3",
   "version": "3.8.10"
  }
 },
 "nbformat": 4,
 "nbformat_minor": 5
}
